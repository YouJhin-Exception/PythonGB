{
 "cells":[
  {
   "cell_type":"code",
   "source":[
    "from sympy import *\n",
    "from sympy.plotting import plot\n",
    "\n",
    "x = Symbol(\"x\", real=True)\n",
    "func = (x ** 2 + 3) \/ (3 * (x + 1))\n",
    "\n",
    "print(\"1. нули и корни\")\n",
    "def roots(func):\n",
    "    return[round(x,3) for x in solve(func,x) if x.is_real] if [round(x,3) for x in solve(func,x) if x.is_real] else 'нет корней'\n",
    "print(f'{roots(func)}')"
   ],
   "execution_count":48,
   "outputs":[
    {
     "name":"stdout",
     "text":[
      "1. нули и корни\n",
      "нет корней\n"
     ],
     "output_type":"stream"
    }
   ],
   "metadata":{
    "datalore":{
     "node_id":"4AppWU2aPObHnFXPnkKb5T",
     "type":"CODE",
     "hide_input_from_viewers":false,
     "hide_output_from_viewers":false
    }
   }
  },
  {
   "cell_type":"code",
   "source":[
    "print('возрастание и убывание')\n",
    "def extr(f):\n",
    "    ex=[-oo, oo]\n",
    "    ex[1:1]=solve(diff(f),x) # крит точки\n",
    "    ex[1:1]=solve((3 * (x + 1)),x) # асимптота\n",
    "    ex.sort()\n",
    "    return ex\n",
    "\n",
    "def inc(f):\n",
    "    incr=[]\n",
    "    redc=[]\n",
    "    for i in range(1,len(extr(f))):\n",
    "        temp=is_increasing(f,Interval.open(extr(f)[i-1],extr(f)[i]))\n",
    "        if temp:\n",
    "            incr.append(f'от {round(extr(f)[i-1],3)} до {round(extr(f)[i],3)}')\n",
    "        else:\n",
    "            redc.append(f'от {round(extr(f)[i-1],3)} до {round(extr(f)[i],3)}')    \n",
    "    print(\"Возрастает : \", *incr)\n",
    "    print(\"Убывает : \", *redc)\n",
    "    \n",
    "inc(func) "
   ],
   "execution_count":50,
   "outputs":[
    {
     "name":"stdout",
     "text":[
      "возрастание и убывание\n",
      "Возрастает :  от -oo до -3 от 1 до oo\n",
      "Убывает :  от -3 до -1 от -1 до 1\n"
     ],
     "output_type":"stream"
    }
   ],
   "metadata":{
    "datalore":{
     "node_id":"axTDm7n6zv5GbaaFVvYwKw",
     "type":"CODE",
     "hide_input_from_viewers":false,
     "hide_output_from_viewers":false
    }
   }
  },
  {
   "cell_type":"code",
   "source":[
    "print(f\"график функции : {func}\")\n",
    "plot(func,(x,-50,50))"
   ],
   "execution_count":51,
   "outputs":[
    {
     "name":"stdout",
     "text":[
      "график функции : (x**2 + 3)\/(3*x + 3)\n"
     ],
     "output_type":"stream"
    },
    {
     "data":{
      "image\/png":"[encoded data removed]"
     },
     "metadata":{
      "image\/png":{
       
      }
     },
     "output_type":"display_data"
    },
    {
     "data":{
      "text\/plain":[
       "<sympy.plotting.plot.Plot at 0x7f28c3089c10>"
      ]
     },
     "metadata":{
      
     },
     "output_type":"display_data"
    }
   ],
   "metadata":{
    "datalore":{
     "node_id":"Xi8acajosMlr1HmZlFJoZo",
     "type":"CODE",
     "hide_input_from_viewers":false,
     "hide_output_from_viewers":false
    }
   }
  },
  {
   "cell_type":"code",
   "source":[
    "print(f\"Экстремумы функции : {func}\")\n",
    "def ext(f):    \n",
    "    ex=solve(diff(f),x)\n",
    "    for i in ex:\n",
    "        temp=f.subs(x,i)\n",
    "        if temp<0:\n",
    "            print(\"Точка минимумуа\", round(temp,3))\n",
    "        else:\n",
    "            print(\"Точка максимума\", round(temp,3))\n",
    "ext(func)"
   ],
   "execution_count":52,
   "outputs":[
    {
     "name":"stdout",
     "text":[
      "Экстремумы функции : (x**2 + 3)\/(3*x + 3)\n",
      "Точка минимумуа -2\n",
      "Точка максимума 0.667\n"
     ],
     "output_type":"stream"
    }
   ],
   "metadata":{
    "datalore":{
     "node_id":"89nLv948SldRCIZW1rCwjI",
     "type":"CODE",
     "hide_input_from_viewers":false,
     "hide_output_from_viewers":false
    }
   }
  },
  {
   "cell_type":"code",
   "source":[
    "print(f\"Знакопостоянства функции : {func}\")\n",
    "def updwn(f):\n",
    "    lst=[-oo, oo]\n",
    "    lst[1:1]=solve((3 * (x + 1)),x) # асимптота\n",
    "    up=[]\n",
    "    down=[]\n",
    "    for i in range(1,len(lst)):\n",
    "        temp_1,temp_2=lst[i-1],lst[i]\n",
    "        temp=is_increasing(f,Interval.open(temp_1,temp_2))\n",
    "        if temp:\n",
    "            down.append(f'{temp_1},{lst[i]}')\n",
    "        else:\n",
    "            up.append(f'{temp_1},{lst[i]}')\n",
    "    print(\"f > 0: \", *up)\n",
    "    print(\"f < 0: \", *down)    \n",
    "updwn(func)"
   ],
   "execution_count":53,
   "outputs":[
    {
     "name":"stdout",
     "text":[
      "Знакопостоянства функции : (x**2 + 3)\/(3*x + 3)\n",
      "f > 0:  -oo,-1 -1,oo\n",
      "f < 0: \n"
     ],
     "output_type":"stream"
    }
   ],
   "metadata":{
    "datalore":{
     "node_id":"8vpdj6ez30EXtegaB50TSL",
     "type":"CODE",
     "hide_input_from_viewers":false,
     "hide_output_from_viewers":false
    }
   }
  }
 ],
 "metadata":{
  "kernelspec":{
   "display_name":"Python",
   "language":"python",
   "name":"python"
  },
  "datalore":{
   "version":1,
   "computation_mode":"JUPYTER",
   "package_manager":"pip",
   "base_environment":"default",
   "packages":[
    
   ]
  }
 },
 "nbformat":4,
 "nbformat_minor":4
}