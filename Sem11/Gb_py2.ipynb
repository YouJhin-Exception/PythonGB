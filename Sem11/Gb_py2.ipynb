{
 "cells":[
  {
   "cell_type":"code",
   "source":[
    "from sympy import *\n",
    "from sympy.plotting import plot\n",
    "\n",
    "x = Symbol(\"x\", real=True)\n",
    "func = 2 * x ** 3 + 2 * x ** 2 - 18 * x - 18\n",
    "\n",
    "print(\"1. нули и корни\")\n",
    "def roots(func):\n",
    "    return[round(x,3) for x in solve(func,x) if x.is_real] if [round(x,3) for x in solve(func,x) if x.is_real] else 'нет корней'\n",
    "print(f'{roots(func)}')"
   ],
   "execution_count":42,
   "outputs":[
    {
     "name":"stdout",
     "text":[
      "1. нули и корни\n",
      "[-3, -1, 3]\n"
     ],
     "output_type":"stream"
    }
   ],
   "metadata":{
    "datalore":{
     "node_id":"4AppWU2aPObHnFXPnkKb5T",
     "type":"CODE",
     "hide_input_from_viewers":false,
     "hide_output_from_viewers":false
    }
   }
  },
  {
   "cell_type":"code",
   "source":[
    "print('возрастание и убывание')\n",
    "def extr(f):\n",
    "    ex=[-oo, oo]\n",
    "    ex[1:1]=solve(diff(f),x)\n",
    "    ex.sort()\n",
    "    return ex\n",
    "\n",
    "def inc(f):\n",
    "    incr=[]\n",
    "    redc=[]\n",
    "    for i in range(1,len(extr(f))):\n",
    "        temp=is_increasing(f,Interval.open(extr(f)[i-1],extr(f)[i]))\n",
    "        if temp:\n",
    "            incr.append(f'от {round(extr(f)[i-1],3)} до {round(extr(f)[i],3)}')\n",
    "        else:\n",
    "            redc.append(f'от {round(extr(f)[i-1],3)} до {round(extr(f)[i],3)}')\n",
    "    print(f'Функция: {func}')\n",
    "    print(\"Возрастает на интервале: \", *incr, sep='\\n')\n",
    "    print(\"Убывает на интервале: \", *redc, sep='\\n')    \n",
    "\n",
    "inc(func)"
   ],
   "execution_count":43,
   "outputs":[
    {
     "name":"stdout",
     "text":[
      "возрастание и убывание\n",
      "Функция: 2*x**3 + 2*x**2 - 18*x - 18\n",
      "Возрастает на интервале: \n",
      "от -oo до -2.097\n",
      "от 1.431 до oo\n",
      "Убывает на интервале: \n",
      "от -2.097 до 1.431\n",
      "--------------------\n"
     ],
     "output_type":"stream"
    }
   ],
   "metadata":{
    "datalore":{
     "node_id":"axTDm7n6zv5GbaaFVvYwKw",
     "type":"CODE",
     "hide_input_from_viewers":false,
     "hide_output_from_viewers":false
    }
   }
  },
  {
   "cell_type":"code",
   "source":[
    "print(f\"график функции : {func}\")\n",
    "plot(func,(x,-5,5))"
   ],
   "execution_count":45,
   "outputs":[
    {
     "name":"stdout",
     "text":[
      "график функции : 2*x**3 + 2*x**2 - 18*x - 18\n"
     ],
     "output_type":"stream"
    },
    {
     "data":{
      "image\/png":"[encoded data removed]"
     },
     "metadata":{
      "image\/png":{
       
      }
     },
     "output_type":"display_data"
    },
    {
     "data":{
      "text\/plain":[
       "<sympy.plotting.plot.Plot at 0x7f28c2c4bdc0>"
      ]
     },
     "metadata":{
      
     },
     "output_type":"display_data"
    }
   ],
   "metadata":{
    "datalore":{
     "node_id":"Xi8acajosMlr1HmZlFJoZo",
     "type":"CODE",
     "hide_input_from_viewers":false,
     "hide_output_from_viewers":false
    }
   }
  },
  {
   "cell_type":"code",
   "source":[
    "print(f\"Экстремумы функции : {func}\")\n",
    "def ext(f):    \n",
    "    ex=solve(diff(f),x)\n",
    "    for i in ex:\n",
    "        temp=f.subs(x,i)\n",
    "        if temp<0:\n",
    "            print(\"Точка минимумуа\", round(temp,3))\n",
    "        else:\n",
    "            print(\"Точка максимума\", round(temp,3))\n",
    "ext(func)"
   ],
   "execution_count":46,
   "outputs":[
    {
     "name":"stdout",
     "text":[
      "Экстремумы функции : 2*x**3 + 2*x**2 - 18*x - 18\n",
      "Точка минимумуа -33.802\n",
      "Точка максимума 10.098\n"
     ],
     "output_type":"stream"
    }
   ],
   "metadata":{
    "datalore":{
     "node_id":"89nLv948SldRCIZW1rCwjI",
     "type":"CODE",
     "hide_input_from_viewers":false,
     "hide_output_from_viewers":false
    }
   }
  },
  {
   "cell_type":"code",
   "source":[
    "print(f\"Знакопостоянства функции : {func}\")\n",
    "def updwn(f): # для функция с корнями\n",
    "    lst=[-oo, oo]\n",
    "    lst[1:1]=[round(x,3) for x in solve(f,x) if x.is_real]\n",
    "    up=[]\n",
    "    down=[]\n",
    "    counter = is_increasing(f,Interval.open(lst[0],lst[1]))\n",
    "    for i in range(1,len(lst)):\n",
    "        if counter%2:\n",
    "            down.append(f'{lst[i-1]},{lst[i]}')\n",
    "        else:\n",
    "            up.append(f'{lst[i-1]},{lst[i]}')\n",
    "        counter+=1   \n",
    "    print(\"f > 0: \", *up)\n",
    "    print(\"f < 0: \", *down)    \n",
    "updwn(func)"
   ],
   "execution_count":47,
   "outputs":[
    {
     "name":"stdout",
     "text":[
      "Знакопостоянства функции : 2*x**3 + 2*x**2 - 18*x - 18\n",
      "f > 0:  -3,-1 3,oo\n",
      "f < 0:  -oo,-3 -1,3\n"
     ],
     "output_type":"stream"
    }
   ],
   "metadata":{
    "datalore":{
     "node_id":"8vpdj6ez30EXtegaB50TSL",
     "type":"CODE",
     "hide_input_from_viewers":false,
     "hide_output_from_viewers":false
    }
   }
  }
 ],
 "metadata":{
  "kernelspec":{
   "display_name":"Python",
   "language":"python",
   "name":"python"
  },
  "datalore":{
   "version":1,
   "computation_mode":"JUPYTER",
   "package_manager":"pip",
   "base_environment":"default",
   "packages":[
    
   ]
  }
 },
 "nbformat":4,
 "nbformat_minor":4
}